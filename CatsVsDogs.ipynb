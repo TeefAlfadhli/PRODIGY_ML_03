{
 "cells": [
  {
   "cell_type": "markdown",
   "metadata": {},
   "source": [
    "# Load libraries "
   ]
  },
  {
   "cell_type": "code",
   "execution_count": 3,
   "metadata": {},
   "outputs": [],
   "source": [
    "import os\n",
    "import cv2\n",
    "import numpy as np\n",
    "from sklearn.model_selection import train_test_split\n",
    "from sklearn.svm import SVC\n",
    "from sklearn.metrics import classification_report, accuracy_score\n",
    "import matplotlib.pyplot as plt"
   ]
  },
  {
   "cell_type": "markdown",
   "metadata": {},
   "source": [
    "# load data"
   ]
  },
  {
   "cell_type": "code",
   "execution_count": 6,
   "metadata": {},
   "outputs": [],
   "source": [
    "data_dir = '/workspaces/PRODIGY_ML_03/dogs-vs-cats-sample'  # Directory containing the sample dataset\n",
    "img_size = 64  \n",
    "data = []\n",
    "labels = []\n"
   ]
  },
  {
   "cell_type": "code",
   "execution_count": 7,
   "metadata": {},
   "outputs": [],
   "source": [
    "# Load and process images\n",
    "for filename in os.listdir(data_dir):\n",
    "    try:\n",
    "        # Construct full file path\n",
    "        file_path = os.path.join(data_dir, filename)\n",
    "        \n",
    "        # Read the image in grayscale\n",
    "        img = cv2.imread(file_path, cv2.IMREAD_GRAYSCALE)\n",
    "        \n",
    "        if img is not None:\n",
    "            # Resize the image\n",
    "            img = cv2.resize(img, (img_size, img_size))\n",
    "            \n",
    "            # Flatten the image\n",
    "            img_flatten = img.flatten()\n",
    "            \n",
    "            # Append image data and label\n",
    "            data.append(img_flatten)\n",
    "            labels.append(0 if 'dog' in filename else 1)\n",
    "        else:\n",
    "            print(f\"Image at {file_path} not found or can't be read.\")\n",
    "    except Exception as e:\n",
    "        print(f\"Error processing {file_path}: {e}\")"
   ]
  },
  {
   "cell_type": "code",
   "execution_count": 8,
   "metadata": {},
   "outputs": [
    {
     "name": "stdout",
     "output_type": "stream",
     "text": [
      "Loaded 100 images successfully.\n"
     ]
    }
   ],
   "source": [
    "# Convert to numpy arrays\n",
    "data = np.array(data)\n",
    "labels = np.array(labels)\n",
    "\n",
    "print(f\"Loaded {len(data)} images successfully.\")"
   ]
  },
  {
   "cell_type": "code",
   "execution_count": null,
   "metadata": {},
   "outputs": [],
   "source": []
  }
 ],
 "metadata": {
  "kernelspec": {
   "display_name": "Python 3",
   "language": "python",
   "name": "python3"
  },
  "language_info": {
   "codemirror_mode": {
    "name": "ipython",
    "version": 3
   },
   "file_extension": ".py",
   "mimetype": "text/x-python",
   "name": "python",
   "nbconvert_exporter": "python",
   "pygments_lexer": "ipython3",
   "version": "3.12.1"
  }
 },
 "nbformat": 4,
 "nbformat_minor": 2
}
